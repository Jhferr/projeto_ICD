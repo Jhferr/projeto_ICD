{
  "nbformat": 4,
  "nbformat_minor": 0,
  "metadata": {
    "kernelspec": {
      "display_name": "Python 3",
      "language": "python",
      "name": "python3"
    },
    "language_info": {
      "codemirror_mode": {
        "name": "ipython",
        "version": 3
      },
      "file_extension": ".py",
      "mimetype": "text/x-python",
      "name": "python",
      "nbconvert_exporter": "python",
      "pygments_lexer": "ipython3",
      "version": "3.6.7"
    },
    "toc": {
      "base_numbering": 1,
      "nav_menu": {},
      "number_sections": true,
      "sideBar": true,
      "skip_h1_title": true,
      "title_cell": "Table of Contents",
      "title_sidebar": "Contents",
      "toc_cell": false,
      "toc_position": {},
      "toc_section_display": true,
      "toc_window_display": false
    },
    "colab": {
      "name": "relatorio_final.ipynb",
      "provenance": [],
      "collapsed_sections": [],
      "include_colab_link": true
    }
  },
  "cells": [
    {
      "cell_type": "markdown",
      "metadata": {
        "id": "view-in-github",
        "colab_type": "text"
      },
      "source": [
        "<a href=\"https://colab.research.google.com/github/carbo6ufmg/trabalho_icd/blob/main/relatorio_final.ipynb\" target=\"_parent\"><img src=\"https://colab.research.google.com/assets/colab-badge.svg\" alt=\"Open In Colab\"/></a>"
      ]
    },
    {
      "cell_type": "markdown",
      "metadata": {
        "id": "-MfB-iW6fIZf"
      },
      "source": [
        "# ICD - Projeto Final: Stroke Prediction Dataset\n",
        "\n",
        "\n",
        "## Participantes:\n",
        "     Alexis Duarte Guimaraes Mariz\n",
        "     Jorge Henrique Ferreira da Silva\n",
        "     Pedro Henrique Andrade\n",
        "     Samuel Lipovetsky\n",
        "     \n",
        "## Links :\n",
        "    \n",
        "    Link Video: https://youtu.be/93ggX4wTNlE\n",
        "    \n",
        "    Github: https://github.com/carbo6ufmg/trabalho_icd"
      ]
    },
    {
      "cell_type": "markdown",
      "metadata": {
        "id": "dV6IEGWUfIZk"
      },
      "source": [
        "\n",
        "\n",
        "## Introdução\n",
        "\n",
        "Neste trabalho vamos utilizar 11 características clínicas para analisar eventos de AVC\n",
        "\n",
        "## Motivação\n",
        "\n",
        "A motivação pelo trabalho veio do fato apresentado pela Organização Mundial da Saúde (OMS), mostrando que o AVC é a 2ª causa de morte no mundo, responsável por aproximadamente 11% do total de mortes.\n"
      ]
    },
    {
      "cell_type": "markdown",
      "metadata": {
        "id": "bH2ciSJBfIZl"
      },
      "source": [
        "## Perguntas\n",
        "\n",
        "1 - Homens na meia idade apresentam em média maior propensão a AVC do que mulheres?\n",
        "\n",
        "2 - Pessoas que fumam ou já fumaram apresentam média de AVC igual a pessoas que nunca fumaram?\n",
        "\n",
        "3 - O número de pessoas que fumam é em média maior no Campo do que na Cidade?\n",
        "\n",
        "4 - Pessoas com índices glicêmicos elevado tem maior probabilidade de sofrer um AVC comparado com pessoas com glicemia normal ?\n",
        "\n",
        "5 - Podemos prever o acontecimento de um AVC em um paciente com base nas comorbidades pré-existentes?"
      ]
    },
    {
      "cell_type": "markdown",
      "metadata": {
        "id": "deazMeKmfIZm"
      },
      "source": [
        "## Dados Utilizados\n",
        "\n",
        "Para a realização deste projeto, foi necessário utilizar um conjunto de dados disponibilizado no kaggle.\n",
        "\n",
        "### Stroke Prediction Dataset\n",
        "**Descrição:** Este conjunto de dados é usado para prever se um paciente tem probabilidade de desenvolver AVC com base nos parâmetros de entrada como sexo, idade, várias doenças e tabagismo. Cada linha dos dados fornece informações relevantes sobre o paciente.\n",
        "\n",
        "**Fonte:** [Stroke Prediction Dataset - fedesoriano](https://www.kaggle.com/fedesoriano/stroke-prediction-dataset)\n",
        "\n"
      ]
    },
    {
      "cell_type": "markdown",
      "metadata": {
        "id": "GNGIvMocfIZm"
      },
      "source": [
        "## Tratamento dos Dados\n",
        "\n",
        "A base de dados selecionada possui alguns dados nulos que foram preenchidos utilizando um KNN Imputer para melhorar o desempenho.\n"
      ]
    },
    {
      "cell_type": "markdown",
      "metadata": {
        "id": "X_kR9UgLfIZn"
      },
      "source": [
        "## Análise Exploratória"
      ]
    },
    {
      "cell_type": "markdown",
      "metadata": {
        "id": "gbbGKbOKfIZn"
      },
      "source": [
        "### Qual a frequência de Acidente Vascular Cerebral por idade?\n",
        "\n",
        "![avc_por_idade.png](https://raw.githubusercontent.com/carbo6ufmg/trabalho_icd/main/imagens/avc_por_idade.png)\n",
        "\n",
        "__Percebe-se que a incidência de AVC possui uma maior concentração nos grupos de 55 até 80 anos. Além disso, devido a uma procura maior por parte de profissonais de saúde por dados referentes a uma faixa etária mais elevadas, dados de indivíduos com idade inferior a 30 serão desconsiderados.__"
      ]
    },
    {
      "cell_type": "markdown",
      "metadata": {
        "id": "fZWDpo3zfIZo"
      },
      "source": [
        "### Qual a incidência de stroke por gênero?\n",
        "\n",
        "![avc_por_genero.png](https://raw.githubusercontent.com/carbo6ufmg/trabalho_icd/main/imagens/avc_por_genero.png)\n",
        "\n",
        "__Através da análise acima, a ausência de uma variação perceptível entre a porcentagem de homens e mulheres no acometimento de AVC pode guiar a uma possível conclusão de que gênero não interfere no acometimento de AVC. Observa também que a base de dados possui um expressivo número de indivíduos do gênero feminino a mais que indivíduos do gênero oposto.__"
      ]
    },
    {
      "cell_type": "markdown",
      "metadata": {
        "id": "p9AIva3LfIZp"
      },
      "source": [
        "### Como estão distribuidos a taxa de Glicose e Índice de Massa Corporal\n",
        "\n",
        "![imc_glicose.png](https://raw.githubusercontent.com/carbo6ufmg/trabalho_icd/main/imagens/imc_glicose.png)\n",
        "\n",
        "__Analisando os gráficos podemos perceber que o IMC não parece afetar tanto no acometimento de AVC, uma vez que a média dos dois grupos é parecida. Já a taxa de glicose no sangue parece ter uma maior influência, uma vez que a média dos que tiveram AVC é maior do que a média do grupo que não sofreu AVC.__"
      ]
    },
    {
      "cell_type": "markdown",
      "metadata": {
        "id": "JCkKMMwKfIZq"
      },
      "source": [
        "### Relação do tabagismo com o AVC\n",
        "\n",
        "![pacientes_tabagismo.png](https://raw.githubusercontent.com/carbo6ufmg/trabalho_icd/main/imagens/pacientes_tabagismo.png)"
      ]
    },
    {
      "cell_type": "markdown",
      "metadata": {
        "id": "G-i1NiAAfIZq"
      },
      "source": [
        "![porcentagem_tabagismo.png](https://raw.githubusercontent.com/carbo6ufmg/trabalho_icd/main/imagens/porcentagem_tabagismo.png)\n",
        "\n",
        "__Ao enunciar o gráfico, podemos perceber que a média de pessoas que já fumaram ou fumam possui uma pequena porcentagem superior em comparação às que nunca fumaram no acometimento de AVC, sendo essa discrepância muito pequena para direcionar qualquer decisão ainda.__"
      ]
    },
    {
      "cell_type": "markdown",
      "metadata": {
        "id": "N0dSQxjvfIZu"
      },
      "source": [
        "## Testes de Hipótese"
      ]
    },
    {
      "cell_type": "markdown",
      "metadata": {
        "id": "-z8U-LS7fIZu"
      },
      "source": [
        "__Considerando o Stroke Prediction Dataset, foi feito uma análise de Teste de Hipótese para analisar a influência das características dos pacientes sobre os incidentes observados.__\n",
        "\n",
        "### Teste 1:\n",
        "\n",
        "#### Hipotese Nula: média de mulheres que tiveram AVC - média de homens que tiveram AVC = 0.\n",
        "\n",
        "#### Hipotese Alternativa: Homens na meia idade apresentam em média maior propensão a AVC do que mulheres."
      ]
    },
    {
      "cell_type": "markdown",
      "metadata": {
        "id": "Fmv1_RLBfIZu"
      },
      "source": [
        "\n",
        "![hip_hist_genero.png](https://raw.githubusercontent.com/carbo6ufmg/trabalho_icd/main/imagens/hip_hist_genero.png)\n",
        "\n",
        "__Como a hipotese nula não foi rejeitada, não podemos afirmar que indivíduos do gênero masculino de faixa etária média apresentam, em média, maior propensão a AVC ao se comparar com o gênero oposto.__"
      ]
    },
    {
      "cell_type": "markdown",
      "metadata": {
        "id": "tzEwMCab_Uwp"
      },
      "source": [
        "### Teste 2:\n",
        "\n",
        "#### Hipotese Nula: média de pessoas que fumam ou já fumaram e tiveram AVC - média de pessoas que nunca fumaram e tiveram AVC = 0.\n",
        "\n",
        "#### Hipotese Alternativa: Pessoas que fumam ou já fumaram apresentam média de AVC igual a pessoas que nunca fumaram."
      ]
    },
    {
      "cell_type": "markdown",
      "metadata": {
        "id": "oEhbnYBK_jfj"
      },
      "source": [
        "\n",
        "![hip_hist_fumantes.png](https://raw.githubusercontent.com/carbo6ufmg/trabalho_icd/main/imagens/hip_hist_fumantes.png)\n",
        "\n",
        "__Como a hipotese nula não foi rejeitada, não podemos afirmar que pessoas que fumam ou já fumaram apresentam média de AVC igual a pessoas que nunca fumaram.__"
      ]
    },
    {
      "cell_type": "markdown",
      "metadata": {
        "id": "Y3EroPsm_6WD"
      },
      "source": [
        "### Teste 3:\n",
        "\n",
        "#### Hipotese Nula: média de pessoas que fumam no campo - média de pessoas que fumam na cidade = 0.\n",
        "\n",
        "#### Hipotese Alternativa: O número de pessoas que fumam é em média maior no Campo do que na Cidade."
      ]
    },
    {
      "cell_type": "markdown",
      "metadata": {
        "id": "GTql1cgTfIZu"
      },
      "source": [
        "\n",
        "![box_m%C3%A9dia_fumam_residencia.png](https://raw.githubusercontent.com/carbo6ufmg/trabalho_icd/main/imagens/box_m%C3%A9dia_fumam_residencia.png)\n",
        "\n",
        "__Observa-se que os bloxpots se cruzam, com evidência de que as médias são iguais. Assim, não podemos afirmar que o número de pessoas que fumam é em média maior no Campo do que na Cidade.__"
      ]
    },
    {
      "cell_type": "markdown",
      "metadata": {
        "id": "UdJx1YLYfIZu"
      },
      "source": [
        "\n",
        "![box_dif_media_fumam.png](https://raw.githubusercontent.com/carbo6ufmg/trabalho_icd/main/imagens/box_dif_media_fumam.png)\n",
        "\n",
        "__Nesse caso, analisamos que o boxplot gerado após o processo de amostragem contém o valor 0, portanto as médias são consideradas iguais.__"
      ]
    },
    {
      "cell_type": "markdown",
      "metadata": {
        "id": "6mwt0SrXAqED"
      },
      "source": [
        "### Teste 4:\n",
        "\n",
        "#### Hipotese Nula: média de pessoas com índice glicêmico maior que 100 que tiveram avc - média de pessoas com índice glicêmico menor ou igual a 100 que tiveram avc é igual a 0.\n",
        "\n",
        "#### Hipotese Alternativa: Pessoas com índices glicêmicos elevado tem maior probabilidade de sofrer um AVC comparado com pessoas com glicemia normal.\n",
        "\n",
        "###### Segundo a World Health Organization os valores esperados de glicose no sangue está entre 70mg/dl e 100mg/dl, assim, vamos separar as observações entre glicose no sangue maior ou menor 100mg/dl (Disponível em <https://www.who.int/data/gho/indicator-metadata-registry/imr-details/2380>)."
      ]
    },
    {
      "cell_type": "markdown",
      "metadata": {
        "id": "MtkZvcj9fIZu"
      },
      "source": [
        "\n",
        "![hip_hist_indice_glicemico.png](https://raw.githubusercontent.com/carbo6ufmg/trabalho_icd/main/imagens/hip_hist_indice_glicemico.png)\n",
        "\n",
        "__Como a hipótese nula foi rejeitada, pessoas com índices glicêmicos elevado tem maior probabilidade de sofrer um AVC comparado com pessoas com taxa glicêmica normal.__"
      ]
    },
    {
      "cell_type": "markdown",
      "metadata": {
        "id": "xs9KvvN1Bdve"
      },
      "source": [
        "### Teste 5:\n",
        "\n",
        "#### Hipotese Nula: a média de pessoas que tiveram um avc em todos os grupos são as mesmas , isso indicaria que não é possível prever um avc baseado nas comorbidades.\n",
        "\n",
        "#### Hipotese Alternativa: Podemos prever o acontecimento de um AVC em um paciente com base nas comorbidades pré-existentes.\n",
        "\n",
        "###### Vamos separar a população em 4 grupos: o primeiro grupo é composto de pessoas que são hipertensas e possuem doença do coração; o segundo grupo são pessoas que são hipertensas mas não possuem doença do coração; o terceiro grupo são pessoas que não são hipertensas mas possuem doença do coração; e o quarto grupo são pessoas que não são hipertensas e não possuem doença do coração.\n"
      ]
    },
    {
      "cell_type": "markdown",
      "metadata": {
        "id": "IWdttlKpfIZv"
      },
      "source": [
        "![box_media_comorbidades.png](https://raw.githubusercontent.com/carbo6ufmg/trabalho_icd/main/imagens/box_media_comorbidades.png)\n",
        "\n",
        "__Para Negar H0 , basta acharmos algum grupo i,j tal que a media de pessoas que tiveram avc em i,j é diferente. Usando a media do grupo 4 e do grupo 3.__"
      ]
    },
    {
      "cell_type": "markdown",
      "metadata": {
        "id": "L2wkyoqYfIZv"
      },
      "source": [
        "![box_dif_comorbidades_3_4.png](https://raw.githubusercontent.com/carbo6ufmg/trabalho_icd/main/imagens/box_dif_comorbidades_3_4.png)\n",
        "\n",
        "__Como a diferença entre o grupo 3 e o grupo 4 não possui o valor 0 entre 95% dos valores , podemos concluir que a media entre o grupo 3 e o grupo 4 podem ser consideradas diferentes, assim, H0 foi negada.__"
      ]
    },
    {
      "cell_type": "markdown",
      "metadata": {
        "id": "DG5AQ6WefIZx"
      },
      "source": [
        "## Classificação\n",
        "\n",
        "####Visando a utilização de um modelo de classificação eficiente capaz de prever o acontecimento de AVC, foram utilizados sete modelos diferentes, sendo eles: Logistic Regression CV classifier, K Nearest Neighbours classifier, Multi-layer Perceptron classifier, Decision Tree classifier, C-Support Vector Classification, Linear classifiers with SGD training e XGBoost classification.\n",
        "####Primeiramente, os modelos foram treinados e apresentaram seguintes resultados: "
      ]
    },
    {
      "cell_type": "markdown",
      "metadata": {
        "id": "CabHv7g3Ch4r"
      },
      "source": [
        "![model_geral.png](https://raw.githubusercontent.com/carbo6ufmg/trabalho_icd/main/imagens/model_geral.png)"
      ]
    },
    {
      "cell_type": "markdown",
      "metadata": {
        "id": "_CTB2Vvx9SRs"
      },
      "source": [
        "![tabela_modelos.png](https://raw.githubusercontent.com/carbo6ufmg/trabalho_icd/main/imagens/tabela_modelos.png)"
      ]
    },
    {
      "cell_type": "markdown",
      "metadata": {
        "id": "jH81yz0ktrqO"
      },
      "source": [
        "####Em seguida, foi realizado um bootstrap nos valores para teste, processando-os sobre os modelos para geração de intervalos de confiança para valores obtidos como \"f1 score\", medida única capaz de oferecer uma visão mais exata da eficiência do classificador. Dessa forma, os resultados obtidos são apresentados abaixo."
      ]
    },
    {
      "cell_type": "markdown",
      "metadata": {
        "id": "7ZFeJO-g9l9J"
      },
      "source": [
        "![bootstrap_f1.png](https://raw.githubusercontent.com/carbo6ufmg/trabalho_icd/main/imagens/bootstrap_f1.png)"
      ]
    },
    {
      "cell_type": "markdown",
      "metadata": {
        "id": "jC-cCvFqyn-9"
      },
      "source": [
        "####Sendo assim, percebe-se que os modelos MLP Classifier e KNN Classifier melhor previram o acontecimento de AVC, com baixa variação nos valores de f1 score, ambos próximos a 0.95(95%)."
      ]
    },
    {
      "cell_type": "markdown",
      "metadata": {
        "id": "S4WQs0QmUCZH"
      },
      "source": [
        "## Relação entre testes de hipóteses e coeficientes de regressão"
      ]
    },
    {
      "cell_type": "markdown",
      "metadata": {
        "id": "9EWK_mRTUTgN"
      },
      "source": [
        "##Relação com o teste de hipóteses 'Pessoas que fumam ou já fumaram apresentam média de AVC igual a pessoas que nunca fumaram?\"\n",
        "Nesse teste de hipotese , chegamos a conclusao que como a hipotese nula não foi rejeitada, não podemos afirmar que pessoas que fumam ou já fumaram apresentam média de AVC igual a pessoas que nunca fumaram. E os coeficientes reafirmam isso, podemos perceber que , em ambos os graficos de coeficientes ,os coeficientes relacionados a fumar influenciam mais a predição de AVC do que aqueles relacionados a não fumar\"."
      ]
    },
    {
      "cell_type": "markdown",
      "metadata": {
        "id": "3T39bIA7XwMg"
      },
      "source": [
        "##Relação com o teste de hipóteses 'Pessoas com índices glicêmicos elevado tem maior probabilidade de sofrer um AVC comparado com pessoas com glicemia normal ?'\n",
        "Como a hipótese nula foi rejeitada, pessoas com índices glicêmicos maior que 100 possuem maior probabilidade de sofrer um AVC comparado com pessoas com glicemia menor que 100. Nos gráficos de coeficientes podemos perceber que o indice glicêmico influencia positivamente a classificação de um individuo para o acontecimento de um AVC."
      ]
    },
    {
      "cell_type": "markdown",
      "metadata": {
        "id": "yNkuwHoC999H"
      },
      "source": [
        "![coef_linear_regression.png](https://raw.githubusercontent.com/carbo6ufmg/trabalho_icd/main/imagens/coef_linear_regression.png)"
      ]
    },
    {
      "cell_type": "markdown",
      "metadata": {
        "id": "yu4pGmhFavv7"
      },
      "source": [
        "![coef_sgdc.png](https://raw.githubusercontent.com/carbo6ufmg/trabalho_icd/main/imagens/coef_sgdc.png)"
      ]
    },
    {
      "cell_type": "markdown",
      "metadata": {
        "id": "XDZ5BWjHfIZx"
      },
      "source": [
        "### Conclusão \n",
        "__Os coeficientes obtidos a partir das regressões confirmam os testes de hipóteses realizados, assim, o melhor indicador  de risco de AVC é a idade, seguido por fumar, ter hipertensão e um alto nível de glicose no sangue. Entretanto,  indicadores como indice de massa corporal, tipo de trabalho e tipo de residência não influenciam muito no risco de AVC__\n"
      ]
    }
  ]
}